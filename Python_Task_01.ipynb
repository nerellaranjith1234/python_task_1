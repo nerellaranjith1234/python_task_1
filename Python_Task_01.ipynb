{
 "cells": [
  {
   "cell_type": "code",
   "execution_count": 4,
   "metadata": {
    "collapsed": true
   },
   "outputs": [
    {
     "name": "stdout",
     "output_type": "stream",
     "text": [
      "Enter First name:Ranjithkumar\n",
      "Enter last nameNerella \n",
      "Enter your age23\n",
      "Your name is RanjithkumarNerella  and Age is 23\n"
     ]
    }
   ],
   "source": [
    "#Format Function\n",
    "f_name=input(\"Enter First name:\")\n",
    "l_name=input(\"Enter last name\")\n",
    "age=int(input(\"Enter your age\"))\n",
    "print(\"Your name is {} and Age is {}\".format(f_name+l_name,age))"
   ]
  },
  {
   "cell_type": "code",
   "execution_count": 5,
   "metadata": {},
   "outputs": [
    {
     "name": "stdout",
     "output_type": "stream",
     "text": [
      "4\n",
      "0\n"
     ]
    }
   ],
   "source": [
    "# count function\n",
    "str1='python is a high level programming language'\n",
    "print(str1.count('a'))# print number of occurrences of a in the given string\n",
    "print(str1.count('a',1,10))#pirnts number of  occurrences character a from index 1 to 9 "
   ]
  },
  {
   "cell_type": "code",
   "execution_count": 6,
   "metadata": {},
   "outputs": [
    {
     "name": "stdout",
     "output_type": "stream",
     "text": [
      "yes\n"
     ]
    }
   ],
   "source": [
    " #to check wehter 'to' is present in 'welcome to python'\n",
    "a='weelcome  to python'\n",
    "sub_st=a.find('to')\n",
    "if(a[(sub_st):(sub_st)+2]=='to'):\n",
    "    print(\"yes\")\n",
    "else:\n",
    "    print(\"no\")"
   ]
  },
  {
   "cell_type": "code",
   "execution_count": 9,
   "metadata": {},
   "outputs": [
    {
     "name": "stdout",
     "output_type": "stream",
     "text": [
      "to is in weelcome  to python\n"
     ]
    }
   ],
   "source": [
    "#lstrip fucntion\n",
    "a='   welcome to python'\n",
    "b=a.lstrip()\n",
    "print(a)\n",
    "print(b) # removes leading spaces and prints string\n",
    "b='to'\n",
    "if(b in a):\n",
    "    print(\"{} is in {}\".format(b,a))\n",
    "    \n",
    "else:\n",
    "    print(\"No:\")\n",
    "    "
   ]
  },
  {
   "cell_type": "code",
   "execution_count": 10,
   "metadata": {},
   "outputs": [
    {
     "name": "stdout",
     "output_type": "stream",
     "text": [
      "['weelcome', 'to', 'python']\n"
     ]
    }
   ],
   "source": [
    "#split() function\n",
    "a='weelcome  to python'\n",
    "s=a.split()\n",
    "print(s)"
   ]
  },
  {
   "cell_type": "code",
   "execution_count": 11,
   "metadata": {},
   "outputs": [
    {
     "name": "stdout",
     "output_type": "stream",
     "text": [
      "   welcome to python\n",
      "welcome to python\n"
     ]
    }
   ],
   "source": [
    "#lstrip fucntion\n",
    "a='   welcome to python'\n",
    "b=a.lstrip()\n",
    "print(a)\n",
    "print(b) # removes leading spaces and prints string"
   ]
  },
  {
   "cell_type": "code",
   "execution_count": 14,
   "metadata": {},
   "outputs": [
    {
     "name": "stdout",
     "output_type": "stream",
     "text": [
      "13\n"
     ]
    }
   ],
   "source": [
    "# index() -returns the index of sub string specified\n",
    "a='weelcome  to python'\n",
    "print(a.index('python'))"
   ]
  },
  {
   "cell_type": "code",
   "execution_count": 15,
   "metadata": {},
   "outputs": [
    {
     "name": "stdout",
     "output_type": "stream",
     "text": [
      "Weelcome  To Python\n"
     ]
    }
   ],
   "source": [
    "#Converts the first character of each word to upper case\n",
    "a='weelcome  to python'\n",
    "b=a.title()\n",
    "print(b)"
   ]
  },
  {
   "cell_type": "code",
   "execution_count": 19,
   "metadata": {},
   "outputs": [
    {
     "name": "stdout",
     "output_type": "stream",
     "text": [
      "Given string consist of only strings and numbers:\n"
     ]
    }
   ],
   "source": [
    "str1=\"123\"\n",
    "if(str1.isalnum):\n",
    "    print(\"Given string consist of only strings and numbers:\")\n",
    "elif(str1.isdigit()):\n",
    "    print(\"Given string consist of only strings:\")\n",
    "else:\n",
    "    Print(\"Enter proper string:\")\n",
    "    "
   ]
  },
  {
   "cell_type": "code",
   "execution_count": null,
   "metadata": {},
   "outputs": [],
   "source": []
  }
 ],
 "metadata": {
  "kernelspec": {
   "display_name": "Python 3",
   "language": "python",
   "name": "python3"
  },
  "language_info": {
   "codemirror_mode": {
    "name": "ipython",
    "version": 3
   },
   "file_extension": ".py",
   "mimetype": "text/x-python",
   "name": "python",
   "nbconvert_exporter": "python",
   "pygments_lexer": "ipython3",
   "version": "3.8.3"
  }
 },
 "nbformat": 4,
 "nbformat_minor": 4
}
